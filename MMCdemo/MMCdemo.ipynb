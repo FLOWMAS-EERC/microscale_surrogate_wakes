{
 "cells": [
  {
   "cell_type": "markdown",
   "id": "3b572ba9",
   "metadata": {},
   "source": [
    "# ABL with MMC demo"
   ]
  },
  {
   "cell_type": "code",
   "execution_count": 1,
   "id": "ee2ab970",
   "metadata": {},
   "outputs": [],
   "source": [
    "# Load the modules\n",
    "\n",
    "# Add any possible locations of amr-wind-frontend here\n",
    "amrwindfedirs = ['/projects/wind_uq/lcheung/amrwind-frontend/',\n",
    "                 '/ccs/proj/cfd162/lcheung/amrwind-frontend/']\n",
    "import sys, os, shutil\n",
    "for x in amrwindfedirs: sys.path.insert(1, x)\n",
    "import MMCutil as writeMMC\n",
    "\n",
    "# Load the libraries\n",
    "import numpy as np\n",
    "import amrwind_frontend as amrwind\n",
    "import matplotlib.pyplot    as plt\n",
    "\n",
    "# Also ignore warnings\n",
    "import warnings\n",
    "warnings.filterwarnings('ignore')\n",
    "\n",
    "# Make all plots inline \n",
    "%matplotlib inline"
   ]
  },
  {
   "cell_type": "code",
   "execution_count": 2,
   "id": "c255784c",
   "metadata": {},
   "outputs": [],
   "source": [
    "# Start the case\n",
    "case = amrwind.MyApp.init_nogui()"
   ]
  },
  {
   "cell_type": "code",
   "execution_count": 3,
   "id": "7bd2e2e2",
   "metadata": {},
   "outputs": [],
   "source": [
    "# Set the time constants\n",
    "case.setAMRWindInput('time.stop_time', 30000.0)\n",
    "case.setAMRWindInput('time.max_step',  50)\n",
    "\n",
    "case.setAMRWindInput('time.fixed_dt',  1.0)\n",
    "case.setAMRWindInput('time.checkpoint_interval',  -1)"
   ]
  },
  {
   "cell_type": "code",
   "execution_count": 4,
   "id": "cba34bcc",
   "metadata": {},
   "outputs": [],
   "source": [
    "# Set some basic parameters\n",
    "case.setAMRWindInput('incflo.physics',      ['ABL'])  # Must have ABL physics to do ABL calculations\n",
    "case.setAMRWindInput('incflo.verbose',      3)        # This is optional, verbose=3 means more info in the output logs\n",
    "case.setAMRWindInput('io.check_file',       'chk')    # What to name the checkpoint files\n",
    "\n",
    "case.setAMRWindInput('incflo.use_godunov',  True)       # Always use a godunov scheme\n",
    "case.setAMRWindInput('incflo.godunov_type', 'weno_z')   # Use 'weno_z' \n",
    "\n",
    "case.setAMRWindInput('turbulence.model',    ['OneEqKsgsM84'])    # One equation k-sgs subgrid scale model\n",
    "case.setAMRWindInput('TKE.source_terms',    ['KsgsM84Src'])      # The corresponding source term\n",
    "\n",
    "case.setAMRWindInput('transport.viscosity', 1.771e-05)           # dynamic viscosity, based on median air temperature of 284.47 K from 2 m above E06, units Pa-s\n",
    "case.setAMRWindInput('incflo.density',      1.2456)              # density, based on 1017.13*100./(284.47)/287.058 where 1017.13 is median air pressure from 2 m above E06 \n",
    "                                                                 #   and 284.47 is median air temperature from 2 m above E06, units kg/\n",
    "case.setAMRWindInput('incflo.velocity',      [0, 0, 0])"
   ]
  },
  {
   "cell_type": "code",
   "execution_count": 5,
   "id": "a1819219-b302-46da-b840-a3b1db8f7af0",
   "metadata": {},
   "outputs": [],
   "source": [
    "# To set up the sampling output\n",
    "case.setAMRWindInput('time.plot_interval',        -1) "
   ]
  },
  {
   "cell_type": "code",
   "execution_count": 6,
   "id": "a4601077",
   "metadata": {},
   "outputs": [],
   "source": [
    "# Set some tolerances (leave this alone)\n",
    "tols = \"\"\"\n",
    "nodal_proj.mg_rtol                       = 1e-06               \n",
    "nodal_proj.mg_atol                       = 1e-12               \n",
    "mac_proj.mg_rtol                         = 1e-06               \n",
    "mac_proj.mg_atol                         = 1e-12               \n",
    "diffusion.mg_rtol                        = 1e-06               \n",
    "diffusion.mg_atol                        = 1e-12               \n",
    "temperature_diffusion.mg_rtol            = 1e-10               \n",
    "temperature_diffusion.mg_atol            = 1e-13               \n",
    "\"\"\"\n",
    "case.loadAMRWindInput(tols, string=True);\n",
    "\n",
    "#case.setAMRWindInput('incflo.do_initial_proj', 0)\n",
    "#case.setAMRWindInput('incflo.initial_iterations', 0)\n"
   ]
  },
  {
   "cell_type": "code",
   "execution_count": 7,
   "id": "a2864b06",
   "metadata": {},
   "outputs": [],
   "source": [
    "# Sets up the domain and level 0 mesh\n",
    "case.setAMRWindInput('geometry.prob_lo', [   0.0,    0.0, 0.0 ])\n",
    "case.setAMRWindInput('geometry.prob_hi', [1000.0,  1000.0, 1000.0])   # each number must be divisible by 16\n",
    "case.setAMRWindInput('amr.n_cell',       [32,      32,     32])"
   ]
  },
  {
   "cell_type": "code",
   "execution_count": 8,
   "id": "1978b049",
   "metadata": {},
   "outputs": [],
   "source": [
    "# This cell sets up boundary conditions\n",
    "case.setAMRWindInput('is_periodicx', True)     # periodic in x\n",
    "case.setAMRWindInput('is_periodicy', True)     # periodic in y\n",
    "case.setAMRWindInput('is_periodicz', False)    # Enforce some boundary conditions in z"
   ]
  },
  {
   "cell_type": "code",
   "execution_count": 9,
   "id": "35575491",
   "metadata": {},
   "outputs": [],
   "source": [
    "# Boundary conditions in z\n",
    "case.setAMRWindInput('zlo.type',              'wall_model')          \n",
    "case.setAMRWindInput('zlo.tke_type',          'zero_gradient')       \n",
    "case.setAMRWindInput('zhi.type',              'slip_wall')           \n",
    "case.setAMRWindInput('zhi.temperature_type',  'fixed_gradient')    "
   ]
  },
  {
   "cell_type": "code",
   "execution_count": 10,
   "id": "a2dac1fe",
   "metadata": {},
   "outputs": [
    {
     "name": "stdout",
     "output_type": "stream",
     "text": [
      "CANNOT update: ABLMeanBoussinesq use forcechange=True in setval()\n"
     ]
    }
   ],
   "source": [
    "# Now set up ABL specific forces, parameters, etc.\n",
    "case.setAMRWindInput('ICNS.source_terms',            ['BoussinesqBuoyancy','ABLMesoForcingMom',])\n",
    "case.setAMRWindInput('Temperature.source_terms',     ['ABLMesoForcingTemp',])\n",
    "\n",
    "case.setAMRWindInput('ABL.stats_output_frequency',   1, forcechange=True)           # Output ABL stats every iteration            \n",
    "case.setAMRWindInput('ABL.stats_output_format',   'netcdf', forcechange=True)       # Use netcdf output because that's how we postprocess\n",
    "\n",
    "case.setAMRWindInput('ABLForcing.abl_forcing_height',   150)       # Hub height wind speed you want specify \n",
    "case.setAMRWindInput('ABL.kappa',                       0.4)      # Kolmogorov constant\n",
    "\n",
    "case.setAMRWindInput('ABL.normal_direction',      2)              # vertical is in z\n",
    "case.setAMRWindInput('ABL.surface_roughness_z0',  0.0001)           # Surface roughess, SOMETHING WE WILL PROBABLY WANT TO ITERATE ON\n",
    "case.setAMRWindInput('ABL.reference_temperature', 300.0)        # Correspond to what was measured at ARM\n",
    "\n",
    "case.setAMRWindInput('ABL.perturb_temperature',    False, forcechange=True)\n",
    "case.setAMRWindInput('ABL.perturb_velocity',       False, forcechange=True)\n",
    "\n",
    "# Monin-Obukhov parameters (No need to change)\n",
    "case.setAMRWindInput('ABL.mo_beta_m',             16.0)\n",
    "case.setAMRWindInput('ABL.mo_gamma_m',            5.0)\n",
    "case.setAMRWindInput('ABL.mo_gamma_h',            5.0)\n",
    "case.setAMRWindInput('ABL.random_gauss_mean',     0.0)\n",
    "case.setAMRWindInput('ABL.random_gauss_var',      1.0)\n",
    "\n",
    "case.setAMRWindInput('BoussinesqBuoyancy.reference_temperature', 300.0)"
   ]
  },
  {
   "cell_type": "markdown",
   "id": "ef8ac63c",
   "metadata": {},
   "source": [
    "## MMC parameters"
   ]
  },
  {
   "cell_type": "code",
   "execution_count": 11,
   "id": "4d390d8f",
   "metadata": {},
   "outputs": [],
   "source": [
    "zMMC     = [0, 500, 1000]     # heights of the MMC forcing\n",
    "times    = [0, 10, 20, 50]    # Times of the MMC forcing\n",
    "\n",
    "# U profiles from mesoscale\n",
    "udat = np.array([[0, 1, 1],\n",
    "                 [0, 1, 1],\n",
    "                 [0, 2, 2],\n",
    "                 [0, 2, 2],\n",
    "                ])\n",
    "\n",
    "# V profiles from mesoscale\n",
    "vdat = np.array([[0, 0, 0], \n",
    "                 [0, 0, 0],\n",
    "                 [0, 0, 0],\n",
    "                 [0, 0, 0],\n",
    "             ])\n",
    "\n",
    "# T profiles from mesoscale\n",
    "Tdat = np.array([[300, 300, 300], \n",
    "                 [300, 300, 300],\n",
    "                 [300, 300, 300],\n",
    "                 [300, 300, 300],\n",
    "                ])\n",
    "\n",
    "fluxdat = 0.0*np.array(times)\n",
    "ICfilename  = 'init.nc'\n",
    "MMCfilename = 'MMC.nc'\n",
    "tstart      = 0.0\n",
    "\n"
   ]
  },
  {
   "cell_type": "code",
   "execution_count": 12,
   "id": "232aed41-c1ab-4fad-a260-d115f1b83628",
   "metadata": {},
   "outputs": [
    {
     "data": {
      "text/plain": [
       "(0.0, 1000.0)"
      ]
     },
     "execution_count": 12,
     "metadata": {},
     "output_type": "execute_result"
    },
    {
     "data": {
      "image/png": "[encoded data removed]",
      "text/plain": [
       "<Figure size 843.75x375 with 3 Axes>"
      ]
     },
     "metadata": {
      "needs_background": "light"
     },
     "output_type": "display_data"
    }
   ],
   "source": [
    "# Plot the MMC inputs\n",
    "plottimes = [0, 1, -1]\n",
    "\n",
    "fig, axs = plt.subplots(1, len(plottimes), figsize=(2.25*len(plottimes), 3), dpi=125, sharey=True)\n",
    "for ploti, itime in enumerate(plottimes):\n",
    "    axs[ploti].plot(udat[itime, :], zMMC, label='U')\n",
    "    axs[ploti].plot(vdat[itime, :], zMMC, label='V')\n",
    "    axs[ploti].set_title('t = %0.2fs'%times[itime])\n",
    "    axs[ploti].set_xlabel('vel [m/s]')\n",
    "axs[0].set_ylabel('z [m]')\n",
    "axs[0].set_ylim([min(zMMC), max(zMMC)])"
   ]
  },
  {
   "cell_type": "code",
   "execution_count": 13,
   "id": "c33e1de7-2411-4f22-b3db-0298470adc14",
   "metadata": {},
   "outputs": [
    {
     "data": {
      "text/plain": [
       "(0.0, 1000.0)"
      ]
     },
     "execution_count": 13,
     "metadata": {},
     "output_type": "execute_result"
    },
    {
     "data": {
      "image/png": "[encoded data removed]",
      "text/plain": [
       "<Figure size 843.75x375 with 3 Axes>"
      ]
     },
     "metadata": {
      "needs_background": "light"
     },
     "output_type": "display_data"
    }
   ],
   "source": [
    "# Plot the MMC inputs\n",
    "plottimes = [0, 1, -1]\n",
    "\n",
    "fig, axs = plt.subplots(1, len(plottimes), figsize=(2.25*len(plottimes), 3), dpi=125, sharey=True)\n",
    "for ploti, itime in enumerate(plottimes):\n",
    "    axs[ploti].plot(Tdat[itime, :], zMMC)\n",
    "    axs[ploti].set_title('t = %0.2fs'%times[itime])\n",
    "    axs[ploti].set_xlabel('T [K]')\n",
    "axs[0].set_ylabel('z [m]')\n",
    "axs[0].set_ylim([min(zMMC), max(zMMC)])"
   ]
  },
  {
   "cell_type": "code",
   "execution_count": 14,
   "id": "a9e54fa8",
   "metadata": {},
   "outputs": [
    {
     "name": "stdout",
     "output_type": "stream",
     "text": [
      "[============================================================] 100.0% \n",
      "[============================================================] 100.0% \n",
      "[============================================================] 100.0% \n",
      "NETCDF4\n",
      "Wrote heights and times\n",
      "Wrote momentum profiles\n",
      "Wrote temperature profiles\n",
      "Wrote tflux profiles\n",
      "Done\n"
     ]
    }
   ],
   "source": [
    "# Set the MMC inputs\n",
    "zstr, Tstr = writeMMC.makeIC_fromMMC(case.getAMRWindInput('geometry.prob_lo'), \n",
    "                                     case.getAMRWindInput('geometry.prob_hi'), \n",
    "                                     case.getAMRWindInput('amr.n_cell'), \n",
    "                                     udat, vdat, Tdat,\n",
    "                                     times, zMMC, ICfilename, tstart, verbose=True)\n",
    "writeMMC.makeMMCforcing(case.getAMRWindInput('geometry.prob_lo'), \n",
    "                        case.getAMRWindInput('geometry.prob_hi'), \n",
    "                        case.getAMRWindInput('amr.n_cell'), \n",
    "                        udat, vdat, Tdat, fluxdat,\n",
    "                        times, zMMC, MMCfilename)\n",
    "\n",
    "# These inputs set up the initial temperature profile (Same as Nalu-Wind temperature profile)\n",
    "case.setAMRWindInput('ABL.temperature_heights', zstr)\n",
    "case.setAMRWindInput('ABL.temperature_values',  Tstr)\n",
    "\n",
    "# MMC files\n",
    "case.setAMRWindInput('ABL.initial_condition_input_file', ICfilename) # this is only for u,v\n",
    "case.setAMRWindInput('ABL.mesoscale_forcing', MMCfilename)\n",
    "\n",
    "case.setAMRWindInput('ABLMesoForcingMom.forcing_scheme', \"direct\")\n",
    "case.setAMRWindInput('ABLMesoForcingTemp.forcing_scheme', \"direct\")"
   ]
  },
  {
   "cell_type": "code",
   "execution_count": null,
   "id": "f761cd12",
   "metadata": {},
   "outputs": [],
   "source": []
  },
  {
   "cell_type": "code",
   "execution_count": 15,
   "id": "de197233",
   "metadata": {},
   "outputs": [
    {
     "name": "stdout",
     "output_type": "stream",
     "text": [
      "# --- Simulation time control parameters ---\n",
      "time.stop_time                           = 30000.0             # Max (simulated) time to evolve [s]\n",
      "time.max_step                            = 50                  \n",
      "time.fixed_dt                            = 1.0                 # Fixed timestep size (in seconds). If negative, then time.cfl is used\n",
      "time.checkpoint_interval                 = -1                  \n",
      "incflo.physics                           = ABL                 # List of physics models to include in simulation.\n",
      "incflo.verbose                           = 3                   \n",
      "io.check_file                            = chk                 \n",
      "incflo.use_godunov                       = true                \n",
      "incflo.godunov_type                      = weno_z              \n",
      "turbulence.model                         = OneEqKsgsM84        \n",
      "TKE.source_terms                         = KsgsM84Src          \n",
      "nodal_proj.mg_rtol                       = 1e-06               \n",
      "nodal_proj.mg_atol                       = 1e-12               \n",
      "mac_proj.mg_rtol                         = 1e-06               \n",
      "mac_proj.mg_atol                         = 1e-12               \n",
      "diffusion.mg_rtol                        = 1e-06               \n",
      "diffusion.mg_atol                        = 1e-12               \n",
      "temperature_diffusion.mg_rtol            = 1e-10               \n",
      "temperature_diffusion.mg_atol            = 1e-13               \n",
      "incflo.gravity                           = 0.0 0.0 -9.81       # Gravitational acceleration vector (x,y,z) [m/s^2]\n",
      "incflo.density                           = 1.2456              # Fluid density [kg/m^3]\n",
      "transport.viscosity                      = 1.771e-05           # Fluid dynamic viscosity [kg/m-s]\n",
      "transport.laminar_prandtl                = 0.7                 # Laminar prandtl number\n",
      "transport.turbulent_prandtl              = 0.3333              # Turbulent prandtl number\n",
      "\n",
      "# --- Geometry and Mesh ---\n",
      "geometry.prob_lo                         = 0.0 0.0 0.0         \n",
      "geometry.prob_hi                         = 1000.0 1000.0 1000.0\n",
      "amr.n_cell                               = 32 32 32            # Number of cells in x, y, and z directions\n",
      "amr.max_level                            = 0                   \n",
      "geometry.is_periodic                     = 1 1 0               \n",
      "zlo.type                                 = wall_model          \n",
      "zlo.tke_type                             = zero_gradient       \n",
      "zhi.type                                 = slip_wall           \n",
      "zhi.temperature_type                     = fixed_gradient      \n",
      "\n",
      "# --- ABL parameters ---\n",
      "ICNS.source_terms                        = BoussinesqBuoyancy ABLMesoForcingMom\n",
      "ABL.stats_output_frequency               = 1                   \n",
      "ABL.stats_output_format                  = netcdf              \n",
      "Temperature.source_terms                 = ABLMesoForcingTemp  \n",
      "ABLMesoForcingMom.forcing_scheme         = direct              \n",
      "ABLMesoForcingTemp.forcing_scheme        = direct              \n",
      "ABL.initial_condition_input_file         = init.nc             \n",
      "ABL.mesoscale_forcing                    = MMC.nc              \n",
      "incflo.velocity                          = 0.0 0.0 0.0         \n",
      "ABLForcing.abl_forcing_height            = 150.0               \n",
      "ABL.kappa                                = 0.4                 \n",
      "ABL.normal_direction                     = 2                   \n",
      "ABL.surface_roughness_z0                 = 0.0001              \n",
      "ABL.reference_temperature                = 300.0               \n",
      "ABL.surface_temp_rate                    = 0.0                 \n",
      "ABL.mo_beta_m                            = 16.0                # Monin-Obukhov Beta m parameter\n",
      "ABL.mo_gamma_m                           = 5.0                 # Monin-Obukhov Gamma m parameter\n",
      "ABL.mo_gamma_h                           = 5.0                 # Monin-Obukhov Gamma h parameter\n",
      "ABL.random_gauss_mean                    = 0.0                 \n",
      "ABL.random_gauss_var                     = 1.0                 \n",
      "BoussinesqBuoyancy.reference_temperature = 300.0               \n",
      "ABL.temperature_heights                  = 0 500 1000          \n",
      "ABL.temperature_values                   = 300.0 300.0 300.0   \n",
      "time.plot_interval                       = -1                  \n",
      "io.plot_file                             = plt                 \n",
      "io.KE_int                                = -1                  \n",
      "\n",
      "#---- extra params ----\n",
      "#== END AMR-WIND INPUT ==\n",
      "\n"
     ]
    }
   ],
   "source": [
    "# Write the input file\n",
    "print(case.writeAMRWindInput('ablmmc.inp'))"
   ]
  },
  {
   "cell_type": "code",
   "execution_count": null,
   "id": "75b8d8d1",
   "metadata": {},
   "outputs": [],
   "source": []
  }
 ],
 "metadata": {
  "kernelspec": {
   "display_name": "Python 3 (ipykernel)",
   "language": "python",
   "name": "python3"
  },
  "language_info": {
   "codemirror_mode": {
    "name": "ipython",
    "version": 3
   },
   "file_extension": ".py",
   "mimetype": "text/x-python",
   "name": "python",
   "nbconvert_exporter": "python",
   "pygments_lexer": "ipython3",
   "version": "3.9.12"
  }
 },
 "nbformat": 4,
 "nbformat_minor": 5
}
