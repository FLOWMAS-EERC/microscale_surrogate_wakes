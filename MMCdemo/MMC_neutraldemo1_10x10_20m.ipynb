{
 "cells": [
  {
   "cell_type": "markdown",
   "id": "3b572ba9",
   "metadata": {},
   "source": [
    "# ABL with MMC demo"
   ]
  },
  {
   "cell_type": "code",
   "execution_count": 1,
   "id": "ee2ab970",
   "metadata": {},
   "outputs": [],
   "source": [
    "# Load the modules\n",
    "\n",
    "# Add any possible locations of amr-wind-frontend here\n",
    "amrwindfedirs = ['/projects/wind_uq/lcheung/amrwind-frontend/',\n",
    "                 '/ccs/proj/cfd162/lcheung/amrwind-frontend/']\n",
    "import sys, os, shutil\n",
    "for x in amrwindfedirs: sys.path.insert(1, x)\n",
    "import MMCutil as writeMMC\n",
    "\n",
    "# Load the libraries\n",
    "import numpy as np\n",
    "import pandas as pd\n",
    "import amrwind_frontend as amrwind\n",
    "import matplotlib.pyplot    as plt\n",
    "from scipy.interpolate import CubicSpline\n",
    "\n",
    "# Also ignore warnings\n",
    "import warnings\n",
    "warnings.filterwarnings('ignore')\n",
    "\n",
    "# Make all plots inline \n",
    "%matplotlib inline"
   ]
  },
  {
   "cell_type": "code",
   "execution_count": 2,
   "id": "c255784c",
   "metadata": {},
   "outputs": [],
   "source": [
    "# Start the case\n",
    "case = amrwind.MyApp.init_nogui()"
   ]
  },
  {
   "cell_type": "code",
   "execution_count": 3,
   "id": "7bd2e2e2",
   "metadata": {},
   "outputs": [],
   "source": [
    "# Set the time constants\n",
    "case.setAMRWindInput('time.stop_time', 14400.0)\n",
    "case.setAMRWindInput('time.max_step',  -1)\n",
    "\n",
    "case.setAMRWindInput('time.fixed_dt',  0.50)\n",
    "case.setAMRWindInput('time.checkpoint_interval',  1000)"
   ]
  },
  {
   "cell_type": "code",
   "execution_count": 4,
   "id": "cba34bcc",
   "metadata": {},
   "outputs": [],
   "source": [
    "# Set some basic parameters\n",
    "case.setAMRWindInput('incflo.physics',      ['ABL'])  # Must have ABL physics to do ABL calculations\n",
    "case.setAMRWindInput('incflo.verbose',      3)        # This is optional, verbose=3 means more info in the output logs\n",
    "case.setAMRWindInput('io.check_file',       'chk')    # What to name the checkpoint files\n",
    "\n",
    "case.setAMRWindInput('incflo.use_godunov',  True)       # Always use a godunov scheme\n",
    "case.setAMRWindInput('incflo.godunov_type', 'weno_z')   # Use 'weno_z' \n",
    "\n",
    "case.setAMRWindInput('turbulence.model',    ['OneEqKsgsM84'])    # One equation k-sgs subgrid scale model\n",
    "case.setAMRWindInput('TKE.source_terms',    ['KsgsM84Src'])      # The corresponding source term\n",
    "\n",
    "case.setAMRWindInput('transport.viscosity', 1.774e-05)           # dynamic viscosity, based on median air temperature of 279.5 K from \n",
    "                                                                 # https://www.engineeringtoolbox.com/air-absolute-kinematic-viscosity-d_601.html\n",
    "case.setAMRWindInput('incflo.density',      1.262)               # Density of air at 278.5 K from https://www.engineeringtoolbox.com/air-density-specific-weight-d_600.html\n",
    "case.setAMRWindInput('incflo.velocity',      [0, 0, 0])"
   ]
  },
  {
   "cell_type": "code",
   "execution_count": 5,
   "id": "a1819219-b302-46da-b840-a3b1db8f7af0",
   "metadata": {},
   "outputs": [],
   "source": [
    "# To set up the sampling output\n",
    "case.setAMRWindInput('time.plot_interval',        2000) "
   ]
  },
  {
   "cell_type": "code",
   "execution_count": 6,
   "id": "a4601077",
   "metadata": {},
   "outputs": [],
   "source": [
    "# Set some tolerances (leave this alone)\n",
    "tols = \"\"\"\n",
    "nodal_proj.mg_rtol                       = 1e-06               \n",
    "nodal_proj.mg_atol                       = 1e-12               \n",
    "mac_proj.mg_rtol                         = 1e-06               \n",
    "mac_proj.mg_atol                         = 1e-12               \n",
    "diffusion.mg_rtol                        = 1e-06               \n",
    "diffusion.mg_atol                        = 1e-12               \n",
    "temperature_diffusion.mg_rtol            = 1e-10               \n",
    "temperature_diffusion.mg_atol            = 1e-13               \n",
    "\"\"\"\n",
    "case.loadAMRWindInput(tols, string=True);\n",
    "\n",
    "#case.setAMRWindInput('incflo.do_initial_proj', 0)\n",
    "#case.setAMRWindInput('incflo.initial_iterations', 0)\n"
   ]
  },
  {
   "cell_type": "code",
   "execution_count": 7,
   "id": "a2864b06",
   "metadata": {},
   "outputs": [],
   "source": [
    "# Sets up the domain and level 0 mesh\n",
    "case.setAMRWindInput('geometry.prob_lo', [   0.0,    0.0, 0.0 ])\n",
    "case.setAMRWindInput('geometry.prob_hi', [10240.0,  10240.0, 960.0])   # each number must be divisible by 16\n",
    "case.setAMRWindInput('amr.n_cell',       [512,     512,    48])"
   ]
  },
  {
   "cell_type": "code",
   "execution_count": 8,
   "id": "1978b049",
   "metadata": {},
   "outputs": [],
   "source": [
    "# This cell sets up boundary conditions\n",
    "case.setAMRWindInput('is_periodicx', True)     # periodic in x\n",
    "case.setAMRWindInput('is_periodicy', True)     # periodic in y\n",
    "case.setAMRWindInput('is_periodicz', False)    # Enforce some boundary conditions in z"
   ]
  },
  {
   "cell_type": "code",
   "execution_count": 9,
   "id": "35575491",
   "metadata": {},
   "outputs": [],
   "source": [
    "# Boundary conditions in z\n",
    "case.setAMRWindInput('zlo.type',              'wall_model')          \n",
    "case.setAMRWindInput('zlo.tke_type',          'zero_gradient')       \n",
    "case.setAMRWindInput('zhi.type',              'slip_wall')           \n",
    "case.setAMRWindInput('zhi.temperature_type',  'fixed_gradient')    "
   ]
  },
  {
   "cell_type": "code",
   "execution_count": 10,
   "id": "a2dac1fe",
   "metadata": {},
   "outputs": [
    {
     "name": "stdout",
     "output_type": "stream",
     "text": [
      "CANNOT update: ABLMeanBoussinesq use forcechange=True in setval()\n"
     ]
    }
   ],
   "source": [
    "# Now set up ABL specific forces, parameters, etc.\n",
    "case.setAMRWindInput('ICNS.source_terms',            ['BoussinesqBuoyancy','ABLMesoForcingMom',])\n",
    "#case.setAMRWindInput('Temperature.source_terms',     ['ABLMesoForcingTemp',])\n",
    "\n",
    "case.setAMRWindInput('ABL.stats_output_frequency',   1, forcechange=True)           # Output ABL stats every iteration            \n",
    "case.setAMRWindInput('ABL.stats_output_format',   'netcdf', forcechange=True)       # Use netcdf output because that's how we postprocess\n",
    "\n",
    "case.setAMRWindInput('ABLForcing.abl_forcing_height',   150)       # Hub height wind speed you want specify \n",
    "case.setAMRWindInput('ABL.kappa',                       0.4)      # Kolmogorov constant\n",
    "\n",
    "case.setAMRWindInput('ABL.normal_direction',      2)              # vertical is in z\n",
    "case.setAMRWindInput('ABL.surface_roughness_z0',  0.0001)           # Surface roughess, SOMETHING WE WILL PROBABLY WANT TO ITERATE ON\n",
    "case.setAMRWindInput('ABL.reference_temperature', 300.0)        # Correspond to what was measured at ARM\n",
    "\n",
    "case.setAMRWindInput('ABL.perturb_temperature',    True, forcechange=True)\n",
    "case.setAMRWindInput('ABL.perturb_velocity',       True, forcechange=True)\n",
    "\n",
    "# Monin-Obukhov parameters (No need to change)\n",
    "case.setAMRWindInput('ABL.mo_beta_m',             16.0)\n",
    "case.setAMRWindInput('ABL.mo_gamma_m',            5.0)\n",
    "case.setAMRWindInput('ABL.mo_gamma_h',            5.0)\n",
    "case.setAMRWindInput('ABL.random_gauss_mean',     0.0)\n",
    "case.setAMRWindInput('ABL.random_gauss_var',      1.0)\n",
    "\n",
    "case.setAMRWindInput('BoussinesqBuoyancy.reference_temperature', 300.0)"
   ]
  },
  {
   "cell_type": "code",
   "execution_count": 11,
   "id": "87ec998e-6cda-4c06-a55e-43475c854e61",
   "metadata": {},
   "outputs": [],
   "source": [
    "case.setAMRWindInput('ABL_useboundaryplane', True)\n",
    "case.setAMRWindInput('ABL.bndry_io_mode',    '0')\n",
    "case.setAMRWindInput('ABL.bndry_file',       'bndry_data')\n",
    "case.setAMRWindInput('ABL.bndry_planes',     ['xhi','yhi'])\n",
    "case.setAMRWindInput('ABL.bndry_var_names',  'velocity temperature tke')\n",
    "case.setAMRWindInput('ABL.bndry_output_start_time', 10000)"
   ]
  },
  {
   "cell_type": "markdown",
   "id": "e79f1299-14e5-4320-81f0-ebed6ea9e634",
   "metadata": {},
   "source": [
    "## Add sampling planes"
   ]
  },
  {
   "cell_type": "code",
   "execution_count": 12,
   "id": "43a94938-9b0f-4064-bbbd-fe3a02698afd",
   "metadata": {},
   "outputs": [],
   "source": [
    "# Delete all old sampling planes from precursor\n",
    "case.listboxpopupwindict['listboxsampling'].deleteall()\n",
    "case.listboxpopupwindict['listboxpostprosetup'].deleteall()"
   ]
  },
  {
   "cell_type": "code",
   "execution_count": 13,
   "id": "8b9383ec-4210-41aa-9999-8bb5f20df101",
   "metadata": {},
   "outputs": [],
   "source": [
    "samplingcsv=\"\"\"\n",
    "# CSV file should have columns withturbinescsv=\n",
    "# name, type, upstream, downstream, lateral, below, above, n1, n2, options\n",
    "name, type, upstream, downstream, lateral, below, above, n1, n2, options\n",
    "#cl1, centerline, 1,  0, none, none,  none,  11, 11, none\n",
    "#rp1, rotorplane, 2,  0, none, none,  none,  11, 11, none\n",
    "#sw1, streamwise, 2,  1, 1, 0.5,  0.5,  11, 11, usedx:0.25 noffsets:1\n",
    "sw1, streamwise,  2,  1, 1, 0.5,  0.5,  11, 11, usedx:10 wholedomain:1 units:meter center:specified centerx:5120 centery:5120 centerz:150 orientation:y outputvars:velocity;tke;temperature outputfreq:10 outputto:sw_\n",
    "hh,  hubheight,   0,  0,1000, 0,  none,  11, 11, usedx:10 wholedomain:1 units:meter center:specified centerx:0 centery:0 centerz:150 outputvars:velocity;tke;temperature outputfreq:10 outputto:hubheight_\n",
    "\"\"\""
   ]
  },
  {
   "cell_type": "code",
   "execution_count": 14,
   "id": "d8d27409-fcff-4fe4-b7eb-6554c8824e47",
   "metadata": {},
   "outputs": [
    {
     "name": "stdout",
     "output_type": "stream",
     "text": [
      "['Farm_sw1', 'Farm_hh']\n"
     ]
    }
   ],
   "source": [
    "case.setAMRWindInput('sampling_csvtextbox', samplingcsv)\n",
    "case.setAMRWindInput('sampling_deleteprev', True)\n",
    "case.sampling_createAllProbes(verbose=False)\n",
    "# Print out existing list of turbines\n",
    "print(case.listboxpopupwindict['listboxsampling'].getitemlist())"
   ]
  },
  {
   "cell_type": "markdown",
   "id": "ef8ac63c",
   "metadata": {},
   "source": [
    "## MMC parameters"
   ]
  },
  {
   "cell_type": "code",
   "execution_count": 15,
   "id": "e5209f87-345d-429a-bbad-5259ecca1516",
   "metadata": {},
   "outputs": [],
   "source": [
    "# Merging profiles\n",
    "def tanhblend(x, x0, w):\n",
    "    return 0.5*(1+np.tanh((x-x0)/w))\n",
    "\n",
    "def tanhblendprofiles(profa, profb, x, x0, w):\n",
    "    tanha = profa*(1-tanhblend(x, x0, w))\n",
    "    tanhb = profb*(tanhblend(x, x0, w))\n",
    "    return tanha + tanhb\n",
    "\n",
    "def interpprofile(newz, z, prof):\n",
    "    spl = CubicSpline(z, prof)\n",
    "    interpprof = spl(newz)\n",
    "    return interpprof\n",
    "    #return np.interp(newz, z, prof)\n",
    "    \n",
    "def blendprofiles(newz, zA, profA, Bconst, x0, w):\n",
    "    newprofA = interpprofile(newz, zA, profA)\n",
    "    newprofB = Bconst*np.ones(len(newz)) #interpprofile(newz, zB, profB)\n",
    "    return tanhblendprofiles(newprofA, newprofB, newz, x0, w)"
   ]
  },
  {
   "cell_type": "code",
   "execution_count": 16,
   "id": "099fdee2-6d1f-4335-ac21-0613ac61e708",
   "metadata": {},
   "outputs": [
    {
     "data": {
      "text/plain": [
       "[<matplotlib.lines.Line2D at 0x7fffb8937610>]"
      ]
     },
     "execution_count": 16,
     "metadata": {},
     "output_type": "execute_result"
    },
    {
     "data": {
      "image/png": "[encoded data removed]",
      "text/plain": [
       "<Figure size 432x288 with 1 Axes>"
      ]
     },
     "metadata": {
      "needs_background": "light"
     },
     "output_type": "display_data"
    }
   ],
   "source": [
    "xlinspace=np.linspace(0,10,1001)\n",
    "plt.plot(xlinspace, 1-tanhblend(xlinspace, 5.0, 0.50))\n",
    "plt.plot(xlinspace, tanhblend(xlinspace, 5.0, 0.50))"
   ]
  },
  {
   "cell_type": "code",
   "execution_count": 17,
   "id": "6381a0f2-3a57-4124-8397-a14ef25f3726",
   "metadata": {},
   "outputs": [
    {
     "name": "stdout",
     "output_type": "stream",
     "text": [
      "[  10   20   40   60   80  100  120  140  160  180  200  220  240  260\n",
      "  280  300  400  410  420  430  440  450  460  470  480  490  500  510\n",
      "  520  530  540  550  560  570  580  590  600  610  620  630  640  650\n",
      "  660  670  680  690  700  710  720  730  740  750  760  770  780  790\n",
      "  800  810  820  830  840  850  860  870  880  890  900  910  920  930\n",
      "  940  950  960  970  980  990 1000]\n"
     ]
    }
   ],
   "source": [
    "fullheights = np.array([10, 20,  40,  60,  80, 100, 120, 140, 160, 180, 200, 220, 240, 260, 280, 300, 400]) \n",
    "fullheights = np.concatenate((fullheights, np.arange(410, 1001, 10)))\n",
    "print(fullheights)"
   ]
  },
  {
   "cell_type": "code",
   "execution_count": 18,
   "id": "a2f88100-bb43-46b5-a776-10128826e4d7",
   "metadata": {},
   "outputs": [],
   "source": [
    "rundir      = 'MMCdemo_neutral1_10x10_20/'\n",
    "ICfilename  = 'neutral_init.nc'\n",
    "MMCfilename = 'neutral_MMC.nc'\n",
    "amrfilename = 'abl_neutralMMC.inp'\n",
    "\n",
    "# Go to the run directory\n",
    "if not os.path.exists(rundir):\n",
    "    os.makedirs(rundir)"
   ]
  },
  {
   "cell_type": "code",
   "execution_count": 19,
   "id": "ce7021b9-a20f-4dbe-b729-9202b1694f0e",
   "metadata": {},
   "outputs": [],
   "source": [
    "# Load the data from the csv file\n",
    "csvfile = '../NOW23_analysis/data/neutral_profile.csv'\n",
    "profile = pd.read_csv(csvfile)"
   ]
  },
  {
   "cell_type": "code",
   "execution_count": 20,
   "id": "6ad677b9-c749-4b6b-8dc0-50001e83e0a8",
   "metadata": {},
   "outputs": [
    {
     "name": "stdout",
     "output_type": "stream",
     "text": [
      "Index(['height', 'temperature', 'wind_speed', 'u', 'v', 'surface_heat_flux'], dtype='object')\n",
      "[ 10  20  40  60  80 100 120 140 160 180 200 220 240 260 280 300 400 500]\n"
     ]
    }
   ],
   "source": [
    "print(profile.columns)\n",
    "print(np.array(profile['height']))\n",
    "#np.array(profile['u'])"
   ]
  },
  {
   "cell_type": "code",
   "execution_count": 21,
   "id": "de720233-0060-4ee8-baea-b44e97750619",
   "metadata": {},
   "outputs": [
    {
     "name": "stdout",
     "output_type": "stream",
     "text": [
      "avgT =  279.4877688888889\n",
      "q = -0.002050640931633433\n"
     ]
    }
   ],
   "source": [
    "# Let's look at the original data\n",
    "zMMC     = np.array(profile['height'])     # heights of the MMC forcing\n",
    "times    = [0, 100000.0]    # Times of the MMC forcing\n",
    "\n",
    "avgT     = np.mean(np.array(profile['temperature']))\n",
    "print('avgT = ',avgT)\n",
    "neutralT = 279.5  # Use this value for constant T\n",
    "\n",
    "# Merge the profiles\n",
    "extendedu = blendprofiles(fullheights, zMMC, np.array(profile['u']),  np.array(profile['u'])[-1]*1.0, 450, 35)\n",
    "extendedv = blendprofiles(fullheights, zMMC, np.array(profile['v']),  np.array(profile['v'])[-1]*1.0, 450, 35)\n",
    "extendedT = blendprofiles(fullheights, fullheights, neutralT*np.ones(len(fullheights)),  neutralT+5, 475, 35)\n",
    "\n",
    "# U profiles from mesoscale\n",
    "udat = np.array([extendedu,\n",
    "                 extendedu\n",
    "                ])\n",
    "\n",
    "# V profiles from mesoscale\n",
    "vdat = np.array([extendedv,\n",
    "                 extendedv\n",
    "             ])\n",
    "\n",
    "density = case.getAMRWindInput('incflo.density')\n",
    "cp      = 1005 # J/(kg*K)\n",
    "q       = np.mean(np.array(profile['surface_heat_flux']))/(density*cp)\n",
    "print('q = '+repr(q))\n",
    "# T profiles from mesoscale\n",
    "#Tdat = np.array([np.array(profile['temperature']),\n",
    "#                 np.array(profile['temperature']),\n",
    "#                ])\n",
    "Tdat = np.array([extendedT,\n",
    "                 extendedT,\n",
    "                ])\n",
    "\n",
    "fluxdat     = q*np.array(times)\n",
    "tstart      = 0.0\n"
   ]
  },
  {
   "cell_type": "code",
   "execution_count": 22,
   "id": "232aed41-c1ab-4fad-a260-d115f1b83628",
   "metadata": {},
   "outputs": [
    {
     "data": {
      "text/plain": [
       "<matplotlib.legend.Legend at 0x7fffb86b9f10>"
      ]
     },
     "execution_count": 22,
     "metadata": {},
     "output_type": "execute_result"
    },
    {
     "data": {
      "image/png": "[encoded data removed]",
      "text/plain": [
       "<Figure size 562.5x375 with 2 Axes>"
      ]
     },
     "metadata": {
      "needs_background": "light"
     },
     "output_type": "display_data"
    }
   ],
   "source": [
    "# Plot the MMC inputs\n",
    "plottimes = [0, -1]\n",
    "\n",
    "fig, axs = plt.subplots(1, len(plottimes), figsize=(2.25*len(plottimes), 3), dpi=125, sharey=True)\n",
    "for ploti, itime in enumerate(plottimes):\n",
    "    axs[ploti].plot(udat[itime, :], fullheights, label='U')\n",
    "    axs[ploti].plot(vdat[itime, :], fullheights, label='V')\n",
    "    axs[ploti].plot(np.sqrt(udat[itime, :]**2+vdat[itime, :]**2), fullheights, label='$U_h$')\n",
    "    axs[ploti].set_title('t = %0.2fs'%times[itime])\n",
    "    axs[ploti].set_xlabel('vel [m/s]')\n",
    "    \n",
    "    axs[ploti].plot(np.array(profile['u']), zMMC, 'k--')\n",
    "    axs[ploti].plot(np.array(profile['v']), zMMC, 'k--')\n",
    "axs[0].set_ylabel('z [m]')\n",
    "axs[0].set_ylim([min(fullheights), max(fullheights)])\n",
    "axs[0].legend()"
   ]
  },
  {
   "cell_type": "code",
   "execution_count": 23,
   "id": "c33e1de7-2411-4f22-b3db-0298470adc14",
   "metadata": {},
   "outputs": [
    {
     "data": {
      "text/plain": [
       "(10.0, 1000.0)"
      ]
     },
     "execution_count": 23,
     "metadata": {},
     "output_type": "execute_result"
    },
    {
     "data": {
      "image/png": "[encoded data removed]",
      "text/plain": [
       "<Figure size 562.5x375 with 2 Axes>"
      ]
     },
     "metadata": {
      "needs_background": "light"
     },
     "output_type": "display_data"
    }
   ],
   "source": [
    "# Plot the MMC inputs\n",
    "plottimes = [0, -1]\n",
    "\n",
    "fig, axs = plt.subplots(1, len(plottimes), figsize=(2.25*len(plottimes), 3), dpi=125, sharey=True)\n",
    "for ploti, itime in enumerate(plottimes):\n",
    "    axs[ploti].plot(Tdat[itime, :], fullheights)\n",
    "    axs[ploti].set_title('t = %0.2fs'%times[itime])\n",
    "    axs[ploti].set_xlabel('T [K]')\n",
    "    \n",
    "    #axs[ploti].plot(np.array(profile['temperature']), zMMC, 'k--')\n",
    "axs[0].set_ylabel('z [m]')\n",
    "axs[0].set_ylim([min(fullheights), max(fullheights)])"
   ]
  },
  {
   "cell_type": "code",
   "execution_count": 24,
   "id": "a9e54fa8",
   "metadata": {},
   "outputs": [
    {
     "name": "stdout",
     "output_type": "stream",
     "text": [
      "[============================================================] 100.0% \n",
      "[============================================================] 100.0% \n",
      "[============================================================] 100.0% \n",
      "NETCDF4\n",
      "Wrote heights and times\n",
      "Wrote momentum profiles\n",
      "Wrote temperature profiles\n",
      "Wrote tflux profiles\n",
      "Done\n"
     ]
    }
   ],
   "source": [
    "# Set the MMC inputs\n",
    "zstr, Tstr = writeMMC.makeIC_fromMMC(case.getAMRWindInput('geometry.prob_lo'), \n",
    "                                     case.getAMRWindInput('geometry.prob_hi'), \n",
    "                                     case.getAMRWindInput('amr.n_cell'), \n",
    "                                     udat, vdat, Tdat,\n",
    "                                     times, fullheights, rundir+'/'+ICfilename, tstart, verbose=True)\n",
    "writeMMC.makeMMCforcing(case.getAMRWindInput('geometry.prob_lo'), \n",
    "                        case.getAMRWindInput('geometry.prob_hi'), \n",
    "                        case.getAMRWindInput('amr.n_cell'), \n",
    "                        udat, vdat, Tdat, fluxdat,\n",
    "                        times, fullheights, rundir+'/'+MMCfilename)\n",
    "\n",
    "# These inputs set up the initial temperature profile (Same as Nalu-Wind temperature profile)\n",
    "case.setAMRWindInput('ABL.temperature_heights', zstr)\n",
    "case.setAMRWindInput('ABL.temperature_values',  Tstr)\n",
    "\n",
    "# MMC files\n",
    "case.setAMRWindInput('ABL.initial_condition_input_file', ICfilename) # this is only for u,v\n",
    "case.setAMRWindInput('ABL.mesoscale_forcing', MMCfilename)\n",
    "\n",
    "case.setAMRWindInput('ABLMesoForcingMom.forcing_scheme', \"direct\")\n",
    "#case.setAMRWindInput('ABLMesoForcingTemp.forcing_scheme', \"direct\")\n",
    "\n",
    "#case.setAMRWindInput('ABLMesoForcingMom.forcing_transition',  \"directToConstant\")\n",
    "#case.setAMRWindInput('ABLMesoForcingTemp.forcing_transition', \"directToConstant\")\n",
    "#case.setAMRWindInput('ABLMesoForcingMom.constant_transition_height',  450.0)\n",
    "#case.setAMRWindInput('ABLMesoForcingTemp.constant_transition_height', 450.0)\n",
    "#case.setAMRWindInput('ABLMesoForcingMom.transition_thickness',  100.0)\n",
    "#case.setAMRWindInput('ABLMesoForcingTemp.transition_thickness', 100.0)\n",
    "\n"
   ]
  },
  {
   "cell_type": "code",
   "execution_count": 25,
   "id": "f761cd12",
   "metadata": {},
   "outputs": [
    {
     "name": "stdout",
     "output_type": "stream",
     "text": [
      "ESTIMATED MESH SIZE\n",
      "   Level       Ncells                      Cell Size\n",
      "       0     12582912             20.0 x 20.0 x 20.0\n",
      "  TOTAL:     12582912\n"
     ]
    }
   ],
   "source": [
    "# Estimate mesh size\n",
    "case.estimateMeshSize(verbose=False)"
   ]
  },
  {
   "cell_type": "code",
   "execution_count": 26,
   "id": "de197233",
   "metadata": {},
   "outputs": [
    {
     "name": "stdout",
     "output_type": "stream",
     "text": [
      "# --- Simulation time control parameters ---\n",
      "time.stop_time                           = 14400.0             # Max (simulated) time to evolve [s]\n",
      "time.max_step                            = -1                  \n",
      "time.fixed_dt                            = 0.5                 # Fixed timestep size (in seconds). If negative, then time.cfl is used\n",
      "time.checkpoint_interval                 = 1000                \n",
      "incflo.physics                           = ABL                 # List of physics models to include in simulation.\n",
      "incflo.verbose                           = 3                   \n",
      "io.check_file                            = chk                 \n",
      "incflo.use_godunov                       = true                \n",
      "incflo.godunov_type                      = weno_z              \n",
      "turbulence.model                         = OneEqKsgsM84        \n",
      "TKE.source_terms                         = KsgsM84Src          \n",
      "nodal_proj.mg_rtol                       = 1e-06               \n",
      "nodal_proj.mg_atol                       = 1e-12               \n",
      "mac_proj.mg_rtol                         = 1e-06               \n",
      "mac_proj.mg_atol                         = 1e-12               \n",
      "diffusion.mg_rtol                        = 1e-06               \n",
      "diffusion.mg_atol                        = 1e-12               \n",
      "temperature_diffusion.mg_rtol            = 1e-10               \n",
      "temperature_diffusion.mg_atol            = 1e-13               \n",
      "incflo.gravity                           = 0.0 0.0 -9.81       # Gravitational acceleration vector (x,y,z) [m/s^2]\n",
      "incflo.density                           = 1.262               # Fluid density [kg/m^3]\n",
      "transport.viscosity                      = 1.774e-05           # Fluid dynamic viscosity [kg/m-s]\n",
      "transport.laminar_prandtl                = 0.7                 # Laminar prandtl number\n",
      "transport.turbulent_prandtl              = 0.3333              # Turbulent prandtl number\n",
      "\n",
      "# --- Geometry and Mesh ---\n",
      "geometry.prob_lo                         = 0.0 0.0 0.0         \n",
      "geometry.prob_hi                         = 10240.0 10240.0 960.0\n",
      "amr.n_cell                               = 512 512 48          # Number of cells in x, y, and z directions\n",
      "amr.max_level                            = 0                   \n",
      "geometry.is_periodic                     = 1 1 0               \n",
      "zlo.type                                 = wall_model          \n",
      "zlo.tke_type                             = zero_gradient       \n",
      "zhi.type                                 = slip_wall           \n",
      "zhi.temperature_type                     = fixed_gradient      \n",
      "\n",
      "# --- ABL parameters ---\n",
      "ICNS.source_terms                        = BoussinesqBuoyancy ABLMesoForcingMom\n",
      "ABL.stats_output_frequency               = 1                   \n",
      "ABL.stats_output_format                  = netcdf              \n",
      "ABLMesoForcingMom.forcing_scheme         = direct              \n",
      "ABL.initial_condition_input_file         = neutral_init.nc     \n",
      "ABL.mesoscale_forcing                    = neutral_MMC.nc      \n",
      "ABL.bndry_io_mode                        = 0                   \n",
      "ABL.bndry_file                           = bndry_data          \n",
      "ABL.bndry_planes                         = xhi yhi             \n",
      "ABL.bndry_output_start_time              = 10000.0             \n",
      "ABL.bndry_var_names                      = velocity temperature tke\n",
      "ABL.bndry_output_format                  = native              \n",
      "incflo.velocity                          = 0.0 0.0 0.0         \n",
      "ABLForcing.abl_forcing_height            = 150.0               \n",
      "ABL.kappa                                = 0.4                 \n",
      "ABL.normal_direction                     = 2                   \n",
      "ABL.surface_roughness_z0                 = 0.0001              \n",
      "ABL.reference_temperature                = 300.0               \n",
      "ABL.surface_temp_rate                    = 0.0                 \n",
      "ABL.mo_beta_m                            = 16.0                # Monin-Obukhov Beta m parameter\n",
      "ABL.mo_gamma_m                           = 5.0                 # Monin-Obukhov Gamma m parameter\n",
      "ABL.mo_gamma_h                           = 5.0                 # Monin-Obukhov Gamma h parameter\n",
      "ABL.random_gauss_mean                    = 0.0                 \n",
      "ABL.random_gauss_var                     = 1.0                 \n",
      "BoussinesqBuoyancy.reference_temperature = 300.0               \n",
      "ABL.temperature_heights                  = 10 20 40 60 80 100 120 140 160 180 200 220 240 260 280 300 400 410 420 430 440 450 460 470 480 490 500 510 520 530 540 550 560 570 580 590 600 610 620 630 640 650 660 670 680 690 700 710 720 730 740 750 760 770 780 790 800 810 820 830 840 850 860 870 880 890 900 910 920 930 940 950 960 970 980 990 1000\n",
      "ABL.temperature_values                   = 279.5000000000144 279.5000000000256 279.5000000000801 279.5000000002512 279.5000000007877 279.5000000024698 279.5000000077446 279.5000000242847 279.5000000761499 279.50000023878437 279.50000074875953 279.5000023478956 279.50000736232346 279.5000230860738 279.5000723906285 279.50022698934345 279.56788458471874 279.61896471199077 279.70686825530044 279.855000095754 280.0960146101106 280.46660684901155 280.98968315060534 281.6452670155827 282.3547329844173 283.01031684939466 283.53339315098845 283.9039853898894 284.144999904246 284.2931317446996 284.3810352880092 284.43211541528126 284.4614364424354 284.47814910228277 284.4876368842168 284.49301080208255 284.4960506702913 284.49776897488533 284.4987398549354 284.4992882951691 284.499598062481 284.4997730106565 284.49987181247116 284.4999276093716 284.4999591194427 284.4999769139262 284.4999869628496 284.49999263767654 284.49999584235985 284.4999976521044 284.49999867410054 284.49999925124047 284.4999995771619 284.49999976121563 284.49999986515417 284.4999999238501 284.4999999569968 284.4999999757153 284.49999998628596 284.4999999922555 284.49999999562647 284.4999999975302 284.49999999860523 284.4999999992123 284.49999999955526 284.4999999997488 284.4999999998581 284.4999999999199 284.49999999995475 284.4999999999744 284.49999999998556 284.49999999999187 284.4999999999954 284.4999999999974 284.4999999999985 284.49999999999915 284.49999999999955\n",
      "ABL.perturb_velocity                     = true                \n",
      "ABL.perturb_ref_height                   = 50.0                \n",
      "ABL.Uperiods                             = 4.0                 \n",
      "ABL.Vperiods                             = 4.0                 \n",
      "ABL.deltaU                               = 1.0                 \n",
      "ABL.deltaV                               = 1.0                 \n",
      "ABL.perturb_temperature                  = true                \n",
      "ABL.theta_amplitude                      = 0.8                 \n",
      "ABL.cutoff_height                        = 100.0               \n",
      "time.plot_interval                       = 2000                \n",
      "io.plot_file                             = plt                 \n",
      "io.KE_int                                = -1                  \n",
      "\n",
      "#---- postprocessing defs ----\n",
      "incflo.post_processing                   = sw_ hubheight_      \n",
      "sw_.type                                 = Sampling            \n",
      "sw_.output_frequency                     = 10                  \n",
      "sw_.fields                               = velocity temperature tke\n",
      "hubheight_.type                          = Sampling            \n",
      "hubheight_.output_frequency              = 10                  \n",
      "hubheight_.fields                        = velocity temperature tke\n",
      "\n",
      "#---- sample defs ----\n",
      "sw_.labels                               = Farm_sw1            \n",
      "hubheight_.labels                        = Farm_hh             \n",
      "sw_.Farm_sw1.type                        = PlaneSampler        \n",
      "sw_.Farm_sw1.num_points                  = 1025 97             \n",
      "sw_.Farm_sw1.origin                      = 5120.0 0.0 0.0      \n",
      "sw_.Farm_sw1.axis1                       = 0.0 10240.0 0.0     \n",
      "sw_.Farm_sw1.axis2                       = 0.0 0.0 960.0       \n",
      "sw_.Farm_sw1.normal                      = 0.0 0.0 0.0         \n",
      "hubheight_.Farm_hh.type                  = PlaneSampler        \n",
      "hubheight_.Farm_hh.num_points            = 1025 1025           \n",
      "hubheight_.Farm_hh.origin                = 0.0 0.0 150.0       \n",
      "hubheight_.Farm_hh.axis1                 = 10240.0 0.0 0.0     \n",
      "hubheight_.Farm_hh.axis2                 = 0.0 10240.0 0.0     \n",
      "hubheight_.Farm_hh.normal                = 0.0 0.0 0.0         \n",
      "\n",
      "#---- extra params ----\n",
      "#== END AMR-WIND INPUT ==\n",
      "\n"
     ]
    }
   ],
   "source": [
    "# Write the input file\n",
    "#print(case.writeAMRWindInput('ablmmc.inp'))\n",
    "print(case.writeAMRWindInput(rundir+'/'+amrfilename))"
   ]
  },
  {
   "cell_type": "code",
   "execution_count": null,
   "id": "75b8d8d1",
   "metadata": {},
   "outputs": [],
   "source": []
  }
 ],
 "metadata": {
  "kernelspec": {
   "display_name": "Python 3 (ipykernel)",
   "language": "python",
   "name": "python3"
  },
  "language_info": {
   "codemirror_mode": {
    "name": "ipython",
    "version": 3
   },
   "file_extension": ".py",
   "mimetype": "text/x-python",
   "name": "python",
   "nbconvert_exporter": "python",
   "pygments_lexer": "ipython3",
   "version": "3.9.12"
  }
 },
 "nbformat": 4,
 "nbformat_minor": 5
}
